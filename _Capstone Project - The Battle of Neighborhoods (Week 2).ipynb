{
 "cells": [
  {
   "cell_type": "markdown",
   "metadata": {},
   "source": [
    "## download all the dependencies that we will need"
   ]
  },
  {
   "cell_type": "code",
   "execution_count": 1,
   "metadata": {},
   "outputs": [
    {
     "name": "stdout",
     "output_type": "stream",
     "text": [
      "Collecting package metadata (current_repodata.json): done\n",
      "Solving environment: done\n",
      "\n",
      "# All requested packages already installed.\n",
      "\n",
      "Collecting package metadata (current_repodata.json): done\n",
      "Solving environment: done\n",
      "\n",
      "# All requested packages already installed.\n",
      "\n",
      "Folium installed\n",
      "Libraries imported.\n"
     ]
    }
   ],
   "source": [
    "import requests # library to handle requests\n",
    "import pandas as pd # library for data analsysis\n",
    "import numpy as np # library to handle data in a vectorized manner\n",
    "import random # library for random number generation\n",
    "\n",
    "!conda install -c conda-forge geopy --yes \n",
    "from geopy.geocoders import Nominatim # module to convert an address into latitude and longitude values\n",
    "\n",
    "# libraries for displaying images\n",
    "from IPython.display import Image \n",
    "from IPython.core.display import HTML \n",
    "    \n",
    "# tranforming json file into a pandas dataframe library\n",
    "from pandas.io.json import json_normalize\n",
    "\n",
    "!conda install -c conda-forge folium=0.5.0 --yes\n",
    "import folium # plotting library\n",
    "\n",
    "print('Folium installed')\n",
    "print('Libraries imported.')"
   ]
  },
  {
   "cell_type": "markdown",
   "metadata": {},
   "source": [
    "## load Foursqure credential"
   ]
  },
  {
   "cell_type": "code",
   "execution_count": 2,
   "metadata": {},
   "outputs": [
    {
     "name": "stdout",
     "output_type": "stream",
     "text": [
      "Your credentails:\n",
      "CLIENT_ID: LBN0SGLPFK3PPF2BRSGPUUU3TZX1YHFDBCPRTWBYIER14LT0\n",
      "CLIENT_SECRET:5FK1MXUWKERD2QHE2KJI0CRAM22CLUMA4BNPQRS5YIXOPGZJ\n"
     ]
    }
   ],
   "source": [
    "CLIENT_ID = 'LBN0SGLPFK3PPF2BRSGPUUU3TZX1YHFDBCPRTWBYIER14LT0' # your Foursquare ID\n",
    "CLIENT_SECRET = '5FK1MXUWKERD2QHE2KJI0CRAM22CLUMA4BNPQRS5YIXOPGZJ' # your Foursquare Secret\n",
    "VERSION = '20180604'\n",
    "LIMIT = 10000\n",
    "print('Your credentails:')\n",
    "print('CLIENT_ID: ' + CLIENT_ID)\n",
    "print('CLIENT_SECRET:' + CLIENT_SECRET)"
   ]
  },
  {
   "cell_type": "markdown",
   "metadata": {},
   "source": [
    "## load the location data of Toronto"
   ]
  },
  {
   "cell_type": "code",
   "execution_count": 3,
   "metadata": {},
   "outputs": [
    {
     "name": "stdout",
     "output_type": "stream",
     "text": [
      "43.6536032 -79.38400547469666\n"
     ]
    }
   ],
   "source": [
    "address = '100 Queen St W, Toronto, ON M5H 2N2'\n",
    "\n",
    "geolocator = Nominatim(user_agent=\"foursquare_agent\")\n",
    "location = geolocator.geocode(address)\n",
    "latitude = location.latitude\n",
    "longitude = location.longitude\n",
    "print(latitude, longitude)"
   ]
  },
  {
   "cell_type": "markdown",
   "metadata": {},
   "source": [
    "## load venue data from Foursquare"
   ]
  },
  {
   "cell_type": "code",
   "execution_count": 4,
   "metadata": {},
   "outputs": [
    {
     "name": "stdout",
     "output_type": "stream",
     "text": [
      "Park .... OK!\n"
     ]
    }
   ],
   "source": [
    "search_query = 'Park'\n",
    "radius = 20000\n",
    "print(search_query + ' .... OK!')"
   ]
  },
  {
   "cell_type": "code",
   "execution_count": 5,
   "metadata": {},
   "outputs": [
    {
     "data": {
      "text/plain": [
       "'https://api.foursquare.com/v2/venues/search?client_id=LBN0SGLPFK3PPF2BRSGPUUU3TZX1YHFDBCPRTWBYIER14LT0&client_secret=5FK1MXUWKERD2QHE2KJI0CRAM22CLUMA4BNPQRS5YIXOPGZJ&ll=43.6536032,-79.38400547469666&v=20180604&query=Park&radius=20000&limit=10000'"
      ]
     },
     "execution_count": 5,
     "metadata": {},
     "output_type": "execute_result"
    }
   ],
   "source": [
    "url = 'https://api.foursquare.com/v2/venues/search?client_id={}&client_secret={}&ll={},{}&v={}&query={}&radius={}&limit={}'.format(CLIENT_ID, CLIENT_SECRET, latitude, longitude, VERSION, search_query, radius, LIMIT)\n",
    "url"
   ]
  },
  {
   "cell_type": "code",
   "execution_count": 6,
   "metadata": {},
   "outputs": [],
   "source": [
    "results = requests.get(url).json()\n",
    "Park = results['response']['venues']"
   ]
  },
  {
   "cell_type": "markdown",
   "metadata": {},
   "source": [
    "## transform data into pandas dataframe"
   ]
  },
  {
   "cell_type": "code",
   "execution_count": 7,
   "metadata": {},
   "outputs": [
    {
     "data": {
      "text/html": [
       "<div>\n",
       "<style scoped>\n",
       "    .dataframe tbody tr th:only-of-type {\n",
       "        vertical-align: middle;\n",
       "    }\n",
       "\n",
       "    .dataframe tbody tr th {\n",
       "        vertical-align: top;\n",
       "    }\n",
       "\n",
       "    .dataframe thead th {\n",
       "        text-align: right;\n",
       "    }\n",
       "</style>\n",
       "<table border=\"1\" class=\"dataframe\">\n",
       "  <thead>\n",
       "    <tr style=\"text-align: right;\">\n",
       "      <th></th>\n",
       "      <th>id</th>\n",
       "      <th>name</th>\n",
       "      <th>categories</th>\n",
       "      <th>referralId</th>\n",
       "      <th>hasPerk</th>\n",
       "      <th>location.address</th>\n",
       "      <th>location.crossStreet</th>\n",
       "      <th>location.lat</th>\n",
       "      <th>location.lng</th>\n",
       "      <th>location.labeledLatLngs</th>\n",
       "      <th>location.distance</th>\n",
       "      <th>location.postalCode</th>\n",
       "      <th>location.cc</th>\n",
       "      <th>location.city</th>\n",
       "      <th>location.state</th>\n",
       "      <th>location.country</th>\n",
       "      <th>location.formattedAddress</th>\n",
       "      <th>venuePage.id</th>\n",
       "    </tr>\n",
       "  </thead>\n",
       "  <tbody>\n",
       "    <tr>\n",
       "      <th>0</th>\n",
       "      <td>4b170e47f964a5208cc123e3</td>\n",
       "      <td>Queen's Park Subway Station</td>\n",
       "      <td>[{'id': '4bf58dd8d48988d1fd931735', 'name': 'M...</td>\n",
       "      <td>v-1596217395</td>\n",
       "      <td>False</td>\n",
       "      <td>691 University Ave</td>\n",
       "      <td>at College St</td>\n",
       "      <td>43.660006</td>\n",
       "      <td>-79.390272</td>\n",
       "      <td>[{'label': 'display', 'lat': 43.66000635700919...</td>\n",
       "      <td>873</td>\n",
       "      <td>M5G 2P1</td>\n",
       "      <td>CA</td>\n",
       "      <td>Toronto</td>\n",
       "      <td>ON</td>\n",
       "      <td>Canada</td>\n",
       "      <td>[691 University Ave (at College St), Toronto O...</td>\n",
       "      <td>NaN</td>\n",
       "    </tr>\n",
       "    <tr>\n",
       "      <th>1</th>\n",
       "      <td>4b54deadf964a520a3d027e3</td>\n",
       "      <td>Grange Park</td>\n",
       "      <td>[{'id': '4bf58dd8d48988d163941735', 'name': 'P...</td>\n",
       "      <td>v-1596217395</td>\n",
       "      <td>False</td>\n",
       "      <td>NaN</td>\n",
       "      <td>NaN</td>\n",
       "      <td>43.652488</td>\n",
       "      <td>-79.392053</td>\n",
       "      <td>[{'label': 'display', 'lat': 43.65248755299856...</td>\n",
       "      <td>659</td>\n",
       "      <td>NaN</td>\n",
       "      <td>CA</td>\n",
       "      <td>Toronto</td>\n",
       "      <td>ON</td>\n",
       "      <td>Canada</td>\n",
       "      <td>[btwn College, University, Queen &amp; Spadina, To...</td>\n",
       "      <td>NaN</td>\n",
       "    </tr>\n",
       "    <tr>\n",
       "      <th>2</th>\n",
       "      <td>4b9d206bf964a520e69136e3</td>\n",
       "      <td>Queen's Park</td>\n",
       "      <td>[{'id': '4bf58dd8d48988d163941735', 'name': 'P...</td>\n",
       "      <td>v-1596217395</td>\n",
       "      <td>False</td>\n",
       "      <td>University Ave.</td>\n",
       "      <td>at Wellesley Ave.</td>\n",
       "      <td>43.663946</td>\n",
       "      <td>-79.392180</td>\n",
       "      <td>[{'label': 'display', 'lat': 43.66394609897775...</td>\n",
       "      <td>1326</td>\n",
       "      <td>M5R 2E8</td>\n",
       "      <td>CA</td>\n",
       "      <td>Toronto</td>\n",
       "      <td>ON</td>\n",
       "      <td>Canada</td>\n",
       "      <td>[University Ave. (at Wellesley Ave.), Toronto ...</td>\n",
       "      <td>NaN</td>\n",
       "    </tr>\n",
       "    <tr>\n",
       "      <th>3</th>\n",
       "      <td>4bfc5019da7120a132df49fd</td>\n",
       "      <td>St. Andrews Playground / Dog Park</td>\n",
       "      <td>[{'id': '4bf58dd8d48988d163941735', 'name': 'P...</td>\n",
       "      <td>v-1596217395</td>\n",
       "      <td>False</td>\n",
       "      <td>450 Adelaide Street West</td>\n",
       "      <td>Brant St &amp; Adelaide St W</td>\n",
       "      <td>43.647388</td>\n",
       "      <td>-79.398752</td>\n",
       "      <td>[{'label': 'display', 'lat': 43.64738759338116...</td>\n",
       "      <td>1374</td>\n",
       "      <td>NaN</td>\n",
       "      <td>CA</td>\n",
       "      <td>Toronto</td>\n",
       "      <td>ON</td>\n",
       "      <td>Canada</td>\n",
       "      <td>[450 Adelaide Street West (Brant St &amp; Adelaide...</td>\n",
       "      <td>NaN</td>\n",
       "    </tr>\n",
       "    <tr>\n",
       "      <th>4</th>\n",
       "      <td>4bb79860cf2fc9b616779e02</td>\n",
       "      <td>Berczy Park</td>\n",
       "      <td>[{'id': '4bf58dd8d48988d163941735', 'name': 'P...</td>\n",
       "      <td>v-1596217395</td>\n",
       "      <td>False</td>\n",
       "      <td>35 Wellington St. East</td>\n",
       "      <td>NaN</td>\n",
       "      <td>43.648048</td>\n",
       "      <td>-79.375172</td>\n",
       "      <td>[{'label': 'display', 'lat': 43.64804835388851...</td>\n",
       "      <td>942</td>\n",
       "      <td>NaN</td>\n",
       "      <td>CA</td>\n",
       "      <td>Toronto</td>\n",
       "      <td>ON</td>\n",
       "      <td>Canada</td>\n",
       "      <td>[35 Wellington St. East, Toronto ON, Canada]</td>\n",
       "      <td>NaN</td>\n",
       "    </tr>\n",
       "  </tbody>\n",
       "</table>\n",
       "</div>"
      ],
      "text/plain": [
       "                         id                               name  \\\n",
       "0  4b170e47f964a5208cc123e3        Queen's Park Subway Station   \n",
       "1  4b54deadf964a520a3d027e3                        Grange Park   \n",
       "2  4b9d206bf964a520e69136e3                       Queen's Park   \n",
       "3  4bfc5019da7120a132df49fd  St. Andrews Playground / Dog Park   \n",
       "4  4bb79860cf2fc9b616779e02                        Berczy Park   \n",
       "\n",
       "                                          categories    referralId  hasPerk  \\\n",
       "0  [{'id': '4bf58dd8d48988d1fd931735', 'name': 'M...  v-1596217395    False   \n",
       "1  [{'id': '4bf58dd8d48988d163941735', 'name': 'P...  v-1596217395    False   \n",
       "2  [{'id': '4bf58dd8d48988d163941735', 'name': 'P...  v-1596217395    False   \n",
       "3  [{'id': '4bf58dd8d48988d163941735', 'name': 'P...  v-1596217395    False   \n",
       "4  [{'id': '4bf58dd8d48988d163941735', 'name': 'P...  v-1596217395    False   \n",
       "\n",
       "           location.address      location.crossStreet  location.lat  \\\n",
       "0        691 University Ave             at College St     43.660006   \n",
       "1                       NaN                       NaN     43.652488   \n",
       "2           University Ave.         at Wellesley Ave.     43.663946   \n",
       "3  450 Adelaide Street West  Brant St & Adelaide St W     43.647388   \n",
       "4    35 Wellington St. East                       NaN     43.648048   \n",
       "\n",
       "   location.lng                            location.labeledLatLngs  \\\n",
       "0    -79.390272  [{'label': 'display', 'lat': 43.66000635700919...   \n",
       "1    -79.392053  [{'label': 'display', 'lat': 43.65248755299856...   \n",
       "2    -79.392180  [{'label': 'display', 'lat': 43.66394609897775...   \n",
       "3    -79.398752  [{'label': 'display', 'lat': 43.64738759338116...   \n",
       "4    -79.375172  [{'label': 'display', 'lat': 43.64804835388851...   \n",
       "\n",
       "   location.distance location.postalCode location.cc location.city  \\\n",
       "0                873             M5G 2P1          CA       Toronto   \n",
       "1                659                 NaN          CA       Toronto   \n",
       "2               1326             M5R 2E8          CA       Toronto   \n",
       "3               1374                 NaN          CA       Toronto   \n",
       "4                942                 NaN          CA       Toronto   \n",
       "\n",
       "  location.state location.country  \\\n",
       "0             ON           Canada   \n",
       "1             ON           Canada   \n",
       "2             ON           Canada   \n",
       "3             ON           Canada   \n",
       "4             ON           Canada   \n",
       "\n",
       "                           location.formattedAddress venuePage.id  \n",
       "0  [691 University Ave (at College St), Toronto O...          NaN  \n",
       "1  [btwn College, University, Queen & Spadina, To...          NaN  \n",
       "2  [University Ave. (at Wellesley Ave.), Toronto ...          NaN  \n",
       "3  [450 Adelaide Street West (Brant St & Adelaide...          NaN  \n",
       "4       [35 Wellington St. East, Toronto ON, Canada]          NaN  "
      ]
     },
     "execution_count": 7,
     "metadata": {},
     "output_type": "execute_result"
    }
   ],
   "source": [
    "dataframe = pd.json_normalize(Park)\n",
    "dataframe.head()"
   ]
  },
  {
   "cell_type": "markdown",
   "metadata": {},
   "source": [
    "## filter the parks onlny in Toronto"
   ]
  },
  {
   "cell_type": "code",
   "execution_count": 8,
   "metadata": {},
   "outputs": [
    {
     "data": {
      "text/html": [
       "<div>\n",
       "<style scoped>\n",
       "    .dataframe tbody tr th:only-of-type {\n",
       "        vertical-align: middle;\n",
       "    }\n",
       "\n",
       "    .dataframe tbody tr th {\n",
       "        vertical-align: top;\n",
       "    }\n",
       "\n",
       "    .dataframe thead th {\n",
       "        text-align: right;\n",
       "    }\n",
       "</style>\n",
       "<table border=\"1\" class=\"dataframe\">\n",
       "  <thead>\n",
       "    <tr style=\"text-align: right;\">\n",
       "      <th></th>\n",
       "      <th>id</th>\n",
       "      <th>name</th>\n",
       "      <th>categories</th>\n",
       "      <th>referralId</th>\n",
       "      <th>hasPerk</th>\n",
       "      <th>location.address</th>\n",
       "      <th>location.crossStreet</th>\n",
       "      <th>location.lat</th>\n",
       "      <th>location.lng</th>\n",
       "      <th>location.labeledLatLngs</th>\n",
       "      <th>location.distance</th>\n",
       "      <th>location.postalCode</th>\n",
       "      <th>location.cc</th>\n",
       "      <th>location.city</th>\n",
       "      <th>location.state</th>\n",
       "      <th>location.country</th>\n",
       "      <th>location.formattedAddress</th>\n",
       "      <th>venuePage.id</th>\n",
       "    </tr>\n",
       "  </thead>\n",
       "  <tbody>\n",
       "    <tr>\n",
       "      <th>0</th>\n",
       "      <td>4b170e47f964a5208cc123e3</td>\n",
       "      <td>Queen's Park Subway Station</td>\n",
       "      <td>[{'id': '4bf58dd8d48988d1fd931735', 'name': 'M...</td>\n",
       "      <td>v-1596217395</td>\n",
       "      <td>False</td>\n",
       "      <td>691 University Ave</td>\n",
       "      <td>at College St</td>\n",
       "      <td>43.660006</td>\n",
       "      <td>-79.390272</td>\n",
       "      <td>[{'label': 'display', 'lat': 43.66000635700919...</td>\n",
       "      <td>873</td>\n",
       "      <td>M5G 2P1</td>\n",
       "      <td>CA</td>\n",
       "      <td>Toronto</td>\n",
       "      <td>ON</td>\n",
       "      <td>Canada</td>\n",
       "      <td>[691 University Ave (at College St), Toronto O...</td>\n",
       "      <td>NaN</td>\n",
       "    </tr>\n",
       "    <tr>\n",
       "      <th>1</th>\n",
       "      <td>4b54deadf964a520a3d027e3</td>\n",
       "      <td>Grange Park</td>\n",
       "      <td>[{'id': '4bf58dd8d48988d163941735', 'name': 'P...</td>\n",
       "      <td>v-1596217395</td>\n",
       "      <td>False</td>\n",
       "      <td>NaN</td>\n",
       "      <td>NaN</td>\n",
       "      <td>43.652488</td>\n",
       "      <td>-79.392053</td>\n",
       "      <td>[{'label': 'display', 'lat': 43.65248755299856...</td>\n",
       "      <td>659</td>\n",
       "      <td>NaN</td>\n",
       "      <td>CA</td>\n",
       "      <td>Toronto</td>\n",
       "      <td>ON</td>\n",
       "      <td>Canada</td>\n",
       "      <td>[btwn College, University, Queen &amp; Spadina, To...</td>\n",
       "      <td>NaN</td>\n",
       "    </tr>\n",
       "    <tr>\n",
       "      <th>2</th>\n",
       "      <td>4b9d206bf964a520e69136e3</td>\n",
       "      <td>Queen's Park</td>\n",
       "      <td>[{'id': '4bf58dd8d48988d163941735', 'name': 'P...</td>\n",
       "      <td>v-1596217395</td>\n",
       "      <td>False</td>\n",
       "      <td>University Ave.</td>\n",
       "      <td>at Wellesley Ave.</td>\n",
       "      <td>43.663946</td>\n",
       "      <td>-79.392180</td>\n",
       "      <td>[{'label': 'display', 'lat': 43.66394609897775...</td>\n",
       "      <td>1326</td>\n",
       "      <td>M5R 2E8</td>\n",
       "      <td>CA</td>\n",
       "      <td>Toronto</td>\n",
       "      <td>ON</td>\n",
       "      <td>Canada</td>\n",
       "      <td>[University Ave. (at Wellesley Ave.), Toronto ...</td>\n",
       "      <td>NaN</td>\n",
       "    </tr>\n",
       "    <tr>\n",
       "      <th>3</th>\n",
       "      <td>4bfc5019da7120a132df49fd</td>\n",
       "      <td>St. Andrews Playground / Dog Park</td>\n",
       "      <td>[{'id': '4bf58dd8d48988d163941735', 'name': 'P...</td>\n",
       "      <td>v-1596217395</td>\n",
       "      <td>False</td>\n",
       "      <td>450 Adelaide Street West</td>\n",
       "      <td>Brant St &amp; Adelaide St W</td>\n",
       "      <td>43.647388</td>\n",
       "      <td>-79.398752</td>\n",
       "      <td>[{'label': 'display', 'lat': 43.64738759338116...</td>\n",
       "      <td>1374</td>\n",
       "      <td>NaN</td>\n",
       "      <td>CA</td>\n",
       "      <td>Toronto</td>\n",
       "      <td>ON</td>\n",
       "      <td>Canada</td>\n",
       "      <td>[450 Adelaide Street West (Brant St &amp; Adelaide...</td>\n",
       "      <td>NaN</td>\n",
       "    </tr>\n",
       "    <tr>\n",
       "      <th>4</th>\n",
       "      <td>4bb79860cf2fc9b616779e02</td>\n",
       "      <td>Berczy Park</td>\n",
       "      <td>[{'id': '4bf58dd8d48988d163941735', 'name': 'P...</td>\n",
       "      <td>v-1596217395</td>\n",
       "      <td>False</td>\n",
       "      <td>35 Wellington St. East</td>\n",
       "      <td>NaN</td>\n",
       "      <td>43.648048</td>\n",
       "      <td>-79.375172</td>\n",
       "      <td>[{'label': 'display', 'lat': 43.64804835388851...</td>\n",
       "      <td>942</td>\n",
       "      <td>NaN</td>\n",
       "      <td>CA</td>\n",
       "      <td>Toronto</td>\n",
       "      <td>ON</td>\n",
       "      <td>Canada</td>\n",
       "      <td>[35 Wellington St. East, Toronto ON, Canada]</td>\n",
       "      <td>NaN</td>\n",
       "    </tr>\n",
       "  </tbody>\n",
       "</table>\n",
       "</div>"
      ],
      "text/plain": [
       "                         id                               name  \\\n",
       "0  4b170e47f964a5208cc123e3        Queen's Park Subway Station   \n",
       "1  4b54deadf964a520a3d027e3                        Grange Park   \n",
       "2  4b9d206bf964a520e69136e3                       Queen's Park   \n",
       "3  4bfc5019da7120a132df49fd  St. Andrews Playground / Dog Park   \n",
       "4  4bb79860cf2fc9b616779e02                        Berczy Park   \n",
       "\n",
       "                                          categories    referralId  hasPerk  \\\n",
       "0  [{'id': '4bf58dd8d48988d1fd931735', 'name': 'M...  v-1596217395    False   \n",
       "1  [{'id': '4bf58dd8d48988d163941735', 'name': 'P...  v-1596217395    False   \n",
       "2  [{'id': '4bf58dd8d48988d163941735', 'name': 'P...  v-1596217395    False   \n",
       "3  [{'id': '4bf58dd8d48988d163941735', 'name': 'P...  v-1596217395    False   \n",
       "4  [{'id': '4bf58dd8d48988d163941735', 'name': 'P...  v-1596217395    False   \n",
       "\n",
       "           location.address      location.crossStreet  location.lat  \\\n",
       "0        691 University Ave             at College St     43.660006   \n",
       "1                       NaN                       NaN     43.652488   \n",
       "2           University Ave.         at Wellesley Ave.     43.663946   \n",
       "3  450 Adelaide Street West  Brant St & Adelaide St W     43.647388   \n",
       "4    35 Wellington St. East                       NaN     43.648048   \n",
       "\n",
       "   location.lng                            location.labeledLatLngs  \\\n",
       "0    -79.390272  [{'label': 'display', 'lat': 43.66000635700919...   \n",
       "1    -79.392053  [{'label': 'display', 'lat': 43.65248755299856...   \n",
       "2    -79.392180  [{'label': 'display', 'lat': 43.66394609897775...   \n",
       "3    -79.398752  [{'label': 'display', 'lat': 43.64738759338116...   \n",
       "4    -79.375172  [{'label': 'display', 'lat': 43.64804835388851...   \n",
       "\n",
       "   location.distance location.postalCode location.cc location.city  \\\n",
       "0                873             M5G 2P1          CA       Toronto   \n",
       "1                659                 NaN          CA       Toronto   \n",
       "2               1326             M5R 2E8          CA       Toronto   \n",
       "3               1374                 NaN          CA       Toronto   \n",
       "4                942                 NaN          CA       Toronto   \n",
       "\n",
       "  location.state location.country  \\\n",
       "0             ON           Canada   \n",
       "1             ON           Canada   \n",
       "2             ON           Canada   \n",
       "3             ON           Canada   \n",
       "4             ON           Canada   \n",
       "\n",
       "                           location.formattedAddress venuePage.id  \n",
       "0  [691 University Ave (at College St), Toronto O...          NaN  \n",
       "1  [btwn College, University, Queen & Spadina, To...          NaN  \n",
       "2  [University Ave. (at Wellesley Ave.), Toronto ...          NaN  \n",
       "3  [450 Adelaide Street West (Brant St & Adelaide...          NaN  \n",
       "4       [35 Wellington St. East, Toronto ON, Canada]          NaN  "
      ]
     },
     "execution_count": 8,
     "metadata": {},
     "output_type": "execute_result"
    }
   ],
   "source": [
    "df1 = dataframe[dataframe['location.city'] == 'Toronto']\n",
    "df1.head()"
   ]
  },
  {
   "cell_type": "markdown",
   "metadata": {},
   "source": [
    "## Clean the dataframe"
   ]
  },
  {
   "cell_type": "code",
   "execution_count": 9,
   "metadata": {},
   "outputs": [
    {
     "data": {
      "text/plain": [
       "Index(['id', 'name', 'categories', 'referralId', 'hasPerk', 'location.address',\n",
       "       'location.crossStreet', 'location.lat', 'location.lng',\n",
       "       'location.labeledLatLngs', 'location.distance', 'location.postalCode',\n",
       "       'location.cc', 'location.city', 'location.state', 'location.country',\n",
       "       'location.formattedAddress', 'venuePage.id'],\n",
       "      dtype='object')"
      ]
     },
     "execution_count": 9,
     "metadata": {},
     "output_type": "execute_result"
    }
   ],
   "source": [
    "df1.columns"
   ]
  },
  {
   "cell_type": "code",
   "execution_count": 10,
   "metadata": {},
   "outputs": [
    {
     "data": {
      "text/html": [
       "<div>\n",
       "<style scoped>\n",
       "    .dataframe tbody tr th:only-of-type {\n",
       "        vertical-align: middle;\n",
       "    }\n",
       "\n",
       "    .dataframe tbody tr th {\n",
       "        vertical-align: top;\n",
       "    }\n",
       "\n",
       "    .dataframe thead th {\n",
       "        text-align: right;\n",
       "    }\n",
       "</style>\n",
       "<table border=\"1\" class=\"dataframe\">\n",
       "  <thead>\n",
       "    <tr style=\"text-align: right;\">\n",
       "      <th></th>\n",
       "      <th>id</th>\n",
       "      <th>location.lat</th>\n",
       "      <th>location.lng</th>\n",
       "    </tr>\n",
       "  </thead>\n",
       "  <tbody>\n",
       "    <tr>\n",
       "      <th>0</th>\n",
       "      <td>4b170e47f964a5208cc123e3</td>\n",
       "      <td>43.660006</td>\n",
       "      <td>-79.390272</td>\n",
       "    </tr>\n",
       "    <tr>\n",
       "      <th>1</th>\n",
       "      <td>4b54deadf964a520a3d027e3</td>\n",
       "      <td>43.652488</td>\n",
       "      <td>-79.392053</td>\n",
       "    </tr>\n",
       "    <tr>\n",
       "      <th>2</th>\n",
       "      <td>4b9d206bf964a520e69136e3</td>\n",
       "      <td>43.663946</td>\n",
       "      <td>-79.392180</td>\n",
       "    </tr>\n",
       "    <tr>\n",
       "      <th>3</th>\n",
       "      <td>4bfc5019da7120a132df49fd</td>\n",
       "      <td>43.647388</td>\n",
       "      <td>-79.398752</td>\n",
       "    </tr>\n",
       "    <tr>\n",
       "      <th>4</th>\n",
       "      <td>4bb79860cf2fc9b616779e02</td>\n",
       "      <td>43.648048</td>\n",
       "      <td>-79.375172</td>\n",
       "    </tr>\n",
       "  </tbody>\n",
       "</table>\n",
       "</div>"
      ],
      "text/plain": [
       "                         id  location.lat  location.lng\n",
       "0  4b170e47f964a5208cc123e3     43.660006    -79.390272\n",
       "1  4b54deadf964a520a3d027e3     43.652488    -79.392053\n",
       "2  4b9d206bf964a520e69136e3     43.663946    -79.392180\n",
       "3  4bfc5019da7120a132df49fd     43.647388    -79.398752\n",
       "4  4bb79860cf2fc9b616779e02     43.648048    -79.375172"
      ]
     },
     "execution_count": 10,
     "metadata": {},
     "output_type": "execute_result"
    }
   ],
   "source": [
    "df_park = df1.drop(['name','categories','referralId', 'hasPerk', 'location.address','location.crossStreet','location.labeledLatLngs','location.distance','location.postalCode','location.cc','location.city','location.state','location.country','location.formattedAddress','venuePage.id'], axis=1)\n",
    "df_park.head()"
   ]
  },
  {
   "cell_type": "markdown",
   "metadata": {},
   "source": [
    "## Run *k*-means to cluster the neighborhood into 5 clusters."
   ]
  },
  {
   "cell_type": "code",
   "execution_count": 11,
   "metadata": {},
   "outputs": [
    {
     "name": "stderr",
     "output_type": "stream",
     "text": [
      "/home/jupyterlab/conda/envs/python/lib/python3.6/site-packages/sklearn/utils/validation.py:595: DataConversionWarning: Data with input dtype object was converted to float64 by StandardScaler.\n",
      "  warnings.warn(msg, DataConversionWarning)\n",
      "/home/jupyterlab/conda/envs/python/lib/python3.6/site-packages/sklearn/utils/validation.py:595: DataConversionWarning: Data with input dtype object was converted to float64 by StandardScaler.\n",
      "  warnings.warn(msg, DataConversionWarning)\n"
     ]
    }
   ],
   "source": [
    "from sklearn.cluster import KMeans \n",
    "%matplotlib inline\n",
    "from sklearn.preprocessing import StandardScaler\n",
    "X = df_park.values[:,1:]\n",
    "X = np.nan_to_num(X)\n",
    "Clus_dataSet = StandardScaler().fit_transform(X)"
   ]
  },
  {
   "cell_type": "code",
   "execution_count": 12,
   "metadata": {},
   "outputs": [
    {
     "name": "stdout",
     "output_type": "stream",
     "text": [
      "[0 0 0 2 1 0 0 2 0 2 0 2 0 0 1 1 2 1 0 1 4 1 2 0 0 2 1 2 3 1 1 0 1 1 0 2 0\n",
      " 0 0 0 0 2 0 1 1 4 0]\n"
     ]
    }
   ],
   "source": [
    "clusterNum = 5\n",
    "k_means = KMeans(init = \"k-means++\", n_clusters = clusterNum, n_init = 12)\n",
    "k_means.fit(X)\n",
    "labels = k_means.labels_\n",
    "print(labels)"
   ]
  },
  {
   "cell_type": "code",
   "execution_count": 49,
   "metadata": {},
   "outputs": [
    {
     "data": {
      "text/html": [
       "<div>\n",
       "<style scoped>\n",
       "    .dataframe tbody tr th:only-of-type {\n",
       "        vertical-align: middle;\n",
       "    }\n",
       "\n",
       "    .dataframe tbody tr th {\n",
       "        vertical-align: top;\n",
       "    }\n",
       "\n",
       "    .dataframe thead th {\n",
       "        text-align: right;\n",
       "    }\n",
       "</style>\n",
       "<table border=\"1\" class=\"dataframe\">\n",
       "  <thead>\n",
       "    <tr style=\"text-align: right;\">\n",
       "      <th></th>\n",
       "      <th>id</th>\n",
       "      <th>location.lat</th>\n",
       "      <th>location.lng</th>\n",
       "      <th>Cluster Labels</th>\n",
       "      <th>name</th>\n",
       "    </tr>\n",
       "  </thead>\n",
       "  <tbody>\n",
       "    <tr>\n",
       "      <th>0</th>\n",
       "      <td>4b170e47f964a5208cc123e3</td>\n",
       "      <td>43.660006</td>\n",
       "      <td>-79.390272</td>\n",
       "      <td>0</td>\n",
       "      <td>Queen's Park Subway Station</td>\n",
       "    </tr>\n",
       "    <tr>\n",
       "      <th>1</th>\n",
       "      <td>4b54deadf964a520a3d027e3</td>\n",
       "      <td>43.652488</td>\n",
       "      <td>-79.392053</td>\n",
       "      <td>0</td>\n",
       "      <td>Grange Park</td>\n",
       "    </tr>\n",
       "    <tr>\n",
       "      <th>2</th>\n",
       "      <td>4b9d206bf964a520e69136e3</td>\n",
       "      <td>43.663946</td>\n",
       "      <td>-79.392180</td>\n",
       "      <td>0</td>\n",
       "      <td>Queen's Park</td>\n",
       "    </tr>\n",
       "    <tr>\n",
       "      <th>3</th>\n",
       "      <td>4bfc5019da7120a132df49fd</td>\n",
       "      <td>43.647388</td>\n",
       "      <td>-79.398752</td>\n",
       "      <td>2</td>\n",
       "      <td>St. Andrews Playground / Dog Park</td>\n",
       "    </tr>\n",
       "    <tr>\n",
       "      <th>4</th>\n",
       "      <td>4bb79860cf2fc9b616779e02</td>\n",
       "      <td>43.648048</td>\n",
       "      <td>-79.375172</td>\n",
       "      <td>1</td>\n",
       "      <td>Berczy Park</td>\n",
       "    </tr>\n",
       "  </tbody>\n",
       "</table>\n",
       "</div>"
      ],
      "text/plain": [
       "                         id  location.lat  location.lng  Cluster Labels  \\\n",
       "0  4b170e47f964a5208cc123e3     43.660006    -79.390272               0   \n",
       "1  4b54deadf964a520a3d027e3     43.652488    -79.392053               0   \n",
       "2  4b9d206bf964a520e69136e3     43.663946    -79.392180               0   \n",
       "3  4bfc5019da7120a132df49fd     43.647388    -79.398752               2   \n",
       "4  4bb79860cf2fc9b616779e02     43.648048    -79.375172               1   \n",
       "\n",
       "                                name  \n",
       "0        Queen's Park Subway Station  \n",
       "1                        Grange Park  \n",
       "2                       Queen's Park  \n",
       "3  St. Andrews Playground / Dog Park  \n",
       "4                        Berczy Park  "
      ]
     },
     "execution_count": 49,
     "metadata": {},
     "output_type": "execute_result"
    }
   ],
   "source": [
    "df_park['Cluster Labels'] = labels\n",
    "df_park['name']= dataframe['name']\n",
    "df_park.head()"
   ]
  },
  {
   "cell_type": "markdown",
   "metadata": {},
   "source": [
    "## visualize the resulting clusters"
   ]
  },
  {
   "cell_type": "code",
   "execution_count": 58,
   "metadata": {},
   "outputs": [
    {
     "data": {
      "text/html": [
       "<div style=\"width:100%;\"><div style=\"position:relative;width:100%;height:0;padding-bottom:60%;\"><span style=\"color:#565656\">Make this Notebook Trusted to load map: File -> Trust Notebook</span><iframe src=\"about:blank\" style=\"position:absolute;width:100%;height:100%;left:0;top:0;border:none !important;\" data-html=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 onload=\"this.contentDocument.open();this.contentDocument.write(atob(this.getAttribute('data-html')));this.contentDocument.close();\" allowfullscreen webkitallowfullscreen mozallowfullscreen></iframe></div></div>"
      ],
      "text/plain": [
       "<folium.folium.Map at 0x7f828f904128>"
      ]
     },
     "execution_count": 58,
     "metadata": {},
     "output_type": "execute_result"
    }
   ],
   "source": [
    "# Matplotlib and associated plotting modules\n",
    "import matplotlib.cm as cm\n",
    "import matplotlib.colors as colors\n",
    "\n",
    "kclusters = 5\n",
    "\n",
    "# create map\n",
    "map_clusters = folium.Map(location=[43.6536032, -79.38400547469666], zoom_start=13)\n",
    "\n",
    "# set color scheme for the clusters\n",
    "x = np.arange(kclusters)\n",
    "ys = [i + x + (i*x)**2 for i in range(kclusters)]\n",
    "colors_array = cm.rainbow(np.linspace(0, 1, len(ys)))\n",
    "rainbow = [colors.rgb2hex(i) for i in colors_array]\n",
    "\n",
    "# add markers to the map\n",
    "markers_colors = []\n",
    "for lat, lon, poi, cluster in zip(df_park['location.lat'], df_park['location.lng'], df_park['name'], df_park['Cluster Labels']):\n",
    "    label = folium.Popup(str(poi) + ' Cluster ' + str(cluster), parse_html=True)\n",
    "    folium.CircleMarker(\n",
    "        [lat, lon],\n",
    "        radius=5,\n",
    "        popup=label,\n",
    "        color=rainbow[cluster-1],\n",
    "        fill=True,\n",
    "        fill_color=rainbow[cluster-1],\n",
    "        fill_opacity=0.7).add_to(map_clusters)\n",
    "       \n",
    "map_clusters"
   ]
  },
  {
   "cell_type": "markdown",
   "metadata": {},
   "source": [
    "## Examine Clusters"
   ]
  },
  {
   "cell_type": "markdown",
   "metadata": {},
   "source": [
    "#### Cluster 1"
   ]
  },
  {
   "cell_type": "code",
   "execution_count": 44,
   "metadata": {},
   "outputs": [
    {
     "data": {
      "text/html": [
       "<div>\n",
       "<style scoped>\n",
       "    .dataframe tbody tr th:only-of-type {\n",
       "        vertical-align: middle;\n",
       "    }\n",
       "\n",
       "    .dataframe tbody tr th {\n",
       "        vertical-align: top;\n",
       "    }\n",
       "\n",
       "    .dataframe thead th {\n",
       "        text-align: right;\n",
       "    }\n",
       "</style>\n",
       "<table border=\"1\" class=\"dataframe\">\n",
       "  <thead>\n",
       "    <tr style=\"text-align: right;\">\n",
       "      <th></th>\n",
       "      <th>id</th>\n",
       "      <th>location.lat</th>\n",
       "      <th>location.lng</th>\n",
       "      <th>Cluster Labels</th>\n",
       "      <th>name</th>\n",
       "    </tr>\n",
       "  </thead>\n",
       "  <tbody>\n",
       "    <tr>\n",
       "      <th>0</th>\n",
       "      <td>4b170e47f964a5208cc123e3</td>\n",
       "      <td>43.660006</td>\n",
       "      <td>-79.390272</td>\n",
       "      <td>0</td>\n",
       "      <td>Queen's Park Subway Station</td>\n",
       "    </tr>\n",
       "    <tr>\n",
       "      <th>1</th>\n",
       "      <td>4b54deadf964a520a3d027e3</td>\n",
       "      <td>43.652488</td>\n",
       "      <td>-79.392053</td>\n",
       "      <td>0</td>\n",
       "      <td>Grange Park</td>\n",
       "    </tr>\n",
       "    <tr>\n",
       "      <th>2</th>\n",
       "      <td>4b9d206bf964a520e69136e3</td>\n",
       "      <td>43.663946</td>\n",
       "      <td>-79.392180</td>\n",
       "      <td>0</td>\n",
       "      <td>Queen's Park</td>\n",
       "    </tr>\n",
       "    <tr>\n",
       "      <th>5</th>\n",
       "      <td>4b9177e4f964a520d2be33e3</td>\n",
       "      <td>43.650735</td>\n",
       "      <td>-79.386921</td>\n",
       "      <td>0</td>\n",
       "      <td>TTC Streetcar #403 - Victoria park</td>\n",
       "    </tr>\n",
       "    <tr>\n",
       "      <th>6</th>\n",
       "      <td>4ad80fcef964a520a61021e3</td>\n",
       "      <td>43.655442</td>\n",
       "      <td>-79.390056</td>\n",
       "      <td>0</td>\n",
       "      <td>One Park Lane</td>\n",
       "    </tr>\n",
       "    <tr>\n",
       "      <th>8</th>\n",
       "      <td>59f1fde348b04e1a8368f4f4</td>\n",
       "      <td>43.659240</td>\n",
       "      <td>-79.382860</td>\n",
       "      <td>0</td>\n",
       "      <td>Physiomed College Park</td>\n",
       "    </tr>\n",
       "    <tr>\n",
       "      <th>10</th>\n",
       "      <td>59ddd7469ba3e51a75459568</td>\n",
       "      <td>43.659263</td>\n",
       "      <td>-79.382632</td>\n",
       "      <td>0</td>\n",
       "      <td>Crunch Fitness - College Park</td>\n",
       "    </tr>\n",
       "    <tr>\n",
       "      <th>12</th>\n",
       "      <td>4ca32b95a73cb60cc61f1678</td>\n",
       "      <td>43.660009</td>\n",
       "      <td>-79.383905</td>\n",
       "      <td>0</td>\n",
       "      <td>Toothworks - College Park Dental</td>\n",
       "    </tr>\n",
       "    <tr>\n",
       "      <th>13</th>\n",
       "      <td>4d3a1d23325ff04db2dd1845</td>\n",
       "      <td>43.659822</td>\n",
       "      <td>-79.385159</td>\n",
       "      <td>0</td>\n",
       "      <td>Residences at College Park North</td>\n",
       "    </tr>\n",
       "    <tr>\n",
       "      <th>18</th>\n",
       "      <td>537feaf9498e871d4bd5e016</td>\n",
       "      <td>43.666728</td>\n",
       "      <td>-79.381084</td>\n",
       "      <td>0</td>\n",
       "      <td>Barbara Hall Park</td>\n",
       "    </tr>\n",
       "    <tr>\n",
       "      <th>23</th>\n",
       "      <td>4bc33d5cabf495217170c393</td>\n",
       "      <td>43.670186</td>\n",
       "      <td>-79.391180</td>\n",
       "      <td>0</td>\n",
       "      <td>Village of Yorkville Park</td>\n",
       "    </tr>\n",
       "    <tr>\n",
       "      <th>24</th>\n",
       "      <td>4c030bf9f423a5938bc3cf16</td>\n",
       "      <td>43.666879</td>\n",
       "      <td>-79.381068</td>\n",
       "      <td>0</td>\n",
       "      <td>Barbara Hall Park</td>\n",
       "    </tr>\n",
       "    <tr>\n",
       "      <th>31</th>\n",
       "      <td>4cf2553c6c29236a20fd6aa2</td>\n",
       "      <td>43.668849</td>\n",
       "      <td>-79.394460</td>\n",
       "      <td>0</td>\n",
       "      <td>Park Hyatt Bridal Suite</td>\n",
       "    </tr>\n",
       "    <tr>\n",
       "      <th>36</th>\n",
       "      <td>4b23bce0f964a520ce5824e3</td>\n",
       "      <td>43.666583</td>\n",
       "      <td>-79.380040</td>\n",
       "      <td>0</td>\n",
       "      <td>Cawthra Square Dog Park</td>\n",
       "    </tr>\n",
       "    <tr>\n",
       "      <th>38</th>\n",
       "      <td>4b68ed27f964a52086932be3</td>\n",
       "      <td>43.661237</td>\n",
       "      <td>-79.383603</td>\n",
       "      <td>0</td>\n",
       "      <td>College Park</td>\n",
       "    </tr>\n",
       "    <tr>\n",
       "      <th>39</th>\n",
       "      <td>4b953ad9f964a520969634e3</td>\n",
       "      <td>43.654379</td>\n",
       "      <td>-79.381849</td>\n",
       "      <td>0</td>\n",
       "      <td>Trinity Square Park</td>\n",
       "    </tr>\n",
       "    <tr>\n",
       "      <th>40</th>\n",
       "      <td>4bbd2aff8a4fb7130ebc3c9d</td>\n",
       "      <td>43.683732</td>\n",
       "      <td>-79.409881</td>\n",
       "      <td>0</td>\n",
       "      <td>Sir Winston Churchill Park</td>\n",
       "    </tr>\n",
       "    <tr>\n",
       "      <th>41</th>\n",
       "      <td>4fbab8dbe4b0f1ce5b6858bb</td>\n",
       "      <td>43.651105</td>\n",
       "      <td>-79.386269</td>\n",
       "      <td>0</td>\n",
       "      <td>Osgoode Hall Park</td>\n",
       "    </tr>\n",
       "    <tr>\n",
       "      <th>42</th>\n",
       "      <td>557f24f6498e5325baa2a8c4</td>\n",
       "      <td>43.654224</td>\n",
       "      <td>-79.381882</td>\n",
       "      <td>0</td>\n",
       "      <td>Trinity Park And Labyrinth</td>\n",
       "    </tr>\n",
       "    <tr>\n",
       "      <th>44</th>\n",
       "      <td>4ae04bcaf964a520857e21e3</td>\n",
       "      <td>43.671302</td>\n",
       "      <td>-79.384691</td>\n",
       "      <td>0</td>\n",
       "      <td>GoodLife Fitness Toronto Bloor and Park</td>\n",
       "    </tr>\n",
       "    <tr>\n",
       "      <th>49</th>\n",
       "      <td>4faac3d5e4b06c670e1afcc4</td>\n",
       "      <td>43.652936</td>\n",
       "      <td>-79.387083</td>\n",
       "      <td>0</td>\n",
       "      <td>College Park Residences</td>\n",
       "    </tr>\n",
       "  </tbody>\n",
       "</table>\n",
       "</div>"
      ],
      "text/plain": [
       "                          id  location.lat  location.lng  Cluster Labels  \\\n",
       "0   4b170e47f964a5208cc123e3     43.660006    -79.390272               0   \n",
       "1   4b54deadf964a520a3d027e3     43.652488    -79.392053               0   \n",
       "2   4b9d206bf964a520e69136e3     43.663946    -79.392180               0   \n",
       "5   4b9177e4f964a520d2be33e3     43.650735    -79.386921               0   \n",
       "6   4ad80fcef964a520a61021e3     43.655442    -79.390056               0   \n",
       "8   59f1fde348b04e1a8368f4f4     43.659240    -79.382860               0   \n",
       "10  59ddd7469ba3e51a75459568     43.659263    -79.382632               0   \n",
       "12  4ca32b95a73cb60cc61f1678     43.660009    -79.383905               0   \n",
       "13  4d3a1d23325ff04db2dd1845     43.659822    -79.385159               0   \n",
       "18  537feaf9498e871d4bd5e016     43.666728    -79.381084               0   \n",
       "23  4bc33d5cabf495217170c393     43.670186    -79.391180               0   \n",
       "24  4c030bf9f423a5938bc3cf16     43.666879    -79.381068               0   \n",
       "31  4cf2553c6c29236a20fd6aa2     43.668849    -79.394460               0   \n",
       "36  4b23bce0f964a520ce5824e3     43.666583    -79.380040               0   \n",
       "38  4b68ed27f964a52086932be3     43.661237    -79.383603               0   \n",
       "39  4b953ad9f964a520969634e3     43.654379    -79.381849               0   \n",
       "40  4bbd2aff8a4fb7130ebc3c9d     43.683732    -79.409881               0   \n",
       "41  4fbab8dbe4b0f1ce5b6858bb     43.651105    -79.386269               0   \n",
       "42  557f24f6498e5325baa2a8c4     43.654224    -79.381882               0   \n",
       "44  4ae04bcaf964a520857e21e3     43.671302    -79.384691               0   \n",
       "49  4faac3d5e4b06c670e1afcc4     43.652936    -79.387083               0   \n",
       "\n",
       "                                       name  \n",
       "0               Queen's Park Subway Station  \n",
       "1                               Grange Park  \n",
       "2                              Queen's Park  \n",
       "5        TTC Streetcar #403 - Victoria park  \n",
       "6                             One Park Lane  \n",
       "8                    Physiomed College Park  \n",
       "10            Crunch Fitness - College Park  \n",
       "12         Toothworks - College Park Dental  \n",
       "13         Residences at College Park North  \n",
       "18                        Barbara Hall Park  \n",
       "23                Village of Yorkville Park  \n",
       "24                        Barbara Hall Park  \n",
       "31                  Park Hyatt Bridal Suite  \n",
       "36                  Cawthra Square Dog Park  \n",
       "38                             College Park  \n",
       "39                      Trinity Square Park  \n",
       "40               Sir Winston Churchill Park  \n",
       "41                        Osgoode Hall Park  \n",
       "42               Trinity Park And Labyrinth  \n",
       "44  GoodLife Fitness Toronto Bloor and Park  \n",
       "49                  College Park Residences  "
      ]
     },
     "execution_count": 44,
     "metadata": {},
     "output_type": "execute_result"
    }
   ],
   "source": [
    "df_park.loc[df_park['Cluster Labels']==0]"
   ]
  },
  {
   "cell_type": "code",
   "execution_count": 45,
   "metadata": {},
   "outputs": [
    {
     "name": "stdout",
     "output_type": "stream",
     "text": [
      "number of parks in cluster1: 21\n"
     ]
    }
   ],
   "source": [
    "rows = df_park.loc[df_park['Cluster Labels']==0].shape[0]\n",
    "print('Number of parks in cluster1: ' + str(rows))"
   ]
  },
  {
   "cell_type": "markdown",
   "metadata": {},
   "source": [
    "#### Cluster 2"
   ]
  },
  {
   "cell_type": "code",
   "execution_count": 17,
   "metadata": {},
   "outputs": [
    {
     "data": {
      "text/html": [
       "<div>\n",
       "<style scoped>\n",
       "    .dataframe tbody tr th:only-of-type {\n",
       "        vertical-align: middle;\n",
       "    }\n",
       "\n",
       "    .dataframe tbody tr th {\n",
       "        vertical-align: top;\n",
       "    }\n",
       "\n",
       "    .dataframe thead th {\n",
       "        text-align: right;\n",
       "    }\n",
       "</style>\n",
       "<table border=\"1\" class=\"dataframe\">\n",
       "  <thead>\n",
       "    <tr style=\"text-align: right;\">\n",
       "      <th></th>\n",
       "      <th>id</th>\n",
       "      <th>location.lat</th>\n",
       "      <th>location.lng</th>\n",
       "      <th>Cluster Labels</th>\n",
       "      <th>name</th>\n",
       "    </tr>\n",
       "  </thead>\n",
       "  <tbody>\n",
       "    <tr>\n",
       "      <th>4</th>\n",
       "      <td>4bb79860cf2fc9b616779e02</td>\n",
       "      <td>43.648048</td>\n",
       "      <td>-79.375172</td>\n",
       "      <td>1</td>\n",
       "      <td>Berczy Park</td>\n",
       "    </tr>\n",
       "    <tr>\n",
       "      <th>14</th>\n",
       "      <td>4ba5a1e2f964a5202b1839e3</td>\n",
       "      <td>43.669951</td>\n",
       "      <td>-79.355493</td>\n",
       "      <td>1</td>\n",
       "      <td>Riverdale Park East</td>\n",
       "    </tr>\n",
       "    <tr>\n",
       "      <th>15</th>\n",
       "      <td>4bb63b82941ad13a5e181fe3</td>\n",
       "      <td>43.666048</td>\n",
       "      <td>-79.360941</td>\n",
       "      <td>1</td>\n",
       "      <td>Riverdale Park West</td>\n",
       "    </tr>\n",
       "    <tr>\n",
       "      <th>17</th>\n",
       "      <td>4c54aeb330f92d7f73b8daba</td>\n",
       "      <td>43.655337</td>\n",
       "      <td>-79.371923</td>\n",
       "      <td>1</td>\n",
       "      <td>Moss Park Tennis Courts</td>\n",
       "    </tr>\n",
       "    <tr>\n",
       "      <th>19</th>\n",
       "      <td>4b7ddd79f964a52014d82fe3</td>\n",
       "      <td>43.648963</td>\n",
       "      <td>-79.364868</td>\n",
       "      <td>1</td>\n",
       "      <td>St Lawrence on the Park</td>\n",
       "    </tr>\n",
       "    <tr>\n",
       "      <th>21</th>\n",
       "      <td>4e54574bb61c93816c084ddb</td>\n",
       "      <td>43.654654</td>\n",
       "      <td>-79.362501</td>\n",
       "      <td>1</td>\n",
       "      <td>Orphan's Greenspace Dog Park</td>\n",
       "    </tr>\n",
       "    <tr>\n",
       "      <th>26</th>\n",
       "      <td>4f7791e5e4b0421082eeacb6</td>\n",
       "      <td>43.660009</td>\n",
       "      <td>-79.364191</td>\n",
       "      <td>1</td>\n",
       "      <td>Regent Park</td>\n",
       "    </tr>\n",
       "    <tr>\n",
       "      <th>29</th>\n",
       "      <td>53a4b638498edce8c3153b44</td>\n",
       "      <td>43.660383</td>\n",
       "      <td>-79.361810</td>\n",
       "      <td>1</td>\n",
       "      <td>Regent Park</td>\n",
       "    </tr>\n",
       "    <tr>\n",
       "      <th>30</th>\n",
       "      <td>537b7f9e498e48d2ddf48326</td>\n",
       "      <td>43.659512</td>\n",
       "      <td>-79.363048</td>\n",
       "      <td>1</td>\n",
       "      <td>Regent Park Community Centre</td>\n",
       "    </tr>\n",
       "    <tr>\n",
       "      <th>32</th>\n",
       "      <td>4c16a548955976b0cadea4f6</td>\n",
       "      <td>43.650264</td>\n",
       "      <td>-79.362195</td>\n",
       "      <td>1</td>\n",
       "      <td>Parliament Square Park</td>\n",
       "    </tr>\n",
       "    <tr>\n",
       "      <th>33</th>\n",
       "      <td>4c17a3cec2dfc9281350a869</td>\n",
       "      <td>43.659572</td>\n",
       "      <td>-79.365759</td>\n",
       "      <td>1</td>\n",
       "      <td>Regent Park Community Health Centre</td>\n",
       "    </tr>\n",
       "    <tr>\n",
       "      <th>46</th>\n",
       "      <td>4bb606111344b71388da9c04</td>\n",
       "      <td>43.666231</td>\n",
       "      <td>-79.371631</td>\n",
       "      <td>1</td>\n",
       "      <td>Winchester Park</td>\n",
       "    </tr>\n",
       "    <tr>\n",
       "      <th>47</th>\n",
       "      <td>559dd766498e3287c7c0db6a</td>\n",
       "      <td>43.660282</td>\n",
       "      <td>-79.361181</td>\n",
       "      <td>1</td>\n",
       "      <td>Club UNO - One Park Place - Amenities Space</td>\n",
       "    </tr>\n",
       "  </tbody>\n",
       "</table>\n",
       "</div>"
      ],
      "text/plain": [
       "                          id  location.lat  location.lng  Cluster Labels  \\\n",
       "4   4bb79860cf2fc9b616779e02     43.648048    -79.375172               1   \n",
       "14  4ba5a1e2f964a5202b1839e3     43.669951    -79.355493               1   \n",
       "15  4bb63b82941ad13a5e181fe3     43.666048    -79.360941               1   \n",
       "17  4c54aeb330f92d7f73b8daba     43.655337    -79.371923               1   \n",
       "19  4b7ddd79f964a52014d82fe3     43.648963    -79.364868               1   \n",
       "21  4e54574bb61c93816c084ddb     43.654654    -79.362501               1   \n",
       "26  4f7791e5e4b0421082eeacb6     43.660009    -79.364191               1   \n",
       "29  53a4b638498edce8c3153b44     43.660383    -79.361810               1   \n",
       "30  537b7f9e498e48d2ddf48326     43.659512    -79.363048               1   \n",
       "32  4c16a548955976b0cadea4f6     43.650264    -79.362195               1   \n",
       "33  4c17a3cec2dfc9281350a869     43.659572    -79.365759               1   \n",
       "46  4bb606111344b71388da9c04     43.666231    -79.371631               1   \n",
       "47  559dd766498e3287c7c0db6a     43.660282    -79.361181               1   \n",
       "\n",
       "                                           name  \n",
       "4                                   Berczy Park  \n",
       "14                          Riverdale Park East  \n",
       "15                          Riverdale Park West  \n",
       "17                      Moss Park Tennis Courts  \n",
       "19                      St Lawrence on the Park  \n",
       "21                 Orphan's Greenspace Dog Park  \n",
       "26                                  Regent Park  \n",
       "29                                  Regent Park  \n",
       "30                 Regent Park Community Centre  \n",
       "32                       Parliament Square Park  \n",
       "33          Regent Park Community Health Centre  \n",
       "46                              Winchester Park  \n",
       "47  Club UNO - One Park Place - Amenities Space  "
      ]
     },
     "execution_count": 17,
     "metadata": {},
     "output_type": "execute_result"
    }
   ],
   "source": [
    "df_park.loc[df_park['Cluster Labels']==1]"
   ]
  },
  {
   "cell_type": "code",
   "execution_count": 46,
   "metadata": {},
   "outputs": [
    {
     "name": "stdout",
     "output_type": "stream",
     "text": [
      "number of parks in cluster2: 13\n"
     ]
    }
   ],
   "source": [
    "rows = df_park.loc[df_park['Cluster Labels']==1].shape[0]\n",
    "print('Number of parks in cluster2: ' + str(rows))"
   ]
  },
  {
   "cell_type": "markdown",
   "metadata": {},
   "source": [
    "#### Cluster 3"
   ]
  },
  {
   "cell_type": "code",
   "execution_count": 18,
   "metadata": {},
   "outputs": [
    {
     "data": {
      "text/html": [
       "<div>\n",
       "<style scoped>\n",
       "    .dataframe tbody tr th:only-of-type {\n",
       "        vertical-align: middle;\n",
       "    }\n",
       "\n",
       "    .dataframe tbody tr th {\n",
       "        vertical-align: top;\n",
       "    }\n",
       "\n",
       "    .dataframe thead th {\n",
       "        text-align: right;\n",
       "    }\n",
       "</style>\n",
       "<table border=\"1\" class=\"dataframe\">\n",
       "  <thead>\n",
       "    <tr style=\"text-align: right;\">\n",
       "      <th></th>\n",
       "      <th>id</th>\n",
       "      <th>location.lat</th>\n",
       "      <th>location.lng</th>\n",
       "      <th>Cluster Labels</th>\n",
       "      <th>name</th>\n",
       "    </tr>\n",
       "  </thead>\n",
       "  <tbody>\n",
       "    <tr>\n",
       "      <th>3</th>\n",
       "      <td>4bfc5019da7120a132df49fd</td>\n",
       "      <td>43.647388</td>\n",
       "      <td>-79.398752</td>\n",
       "      <td>2</td>\n",
       "      <td>St. Andrews Playground / Dog Park</td>\n",
       "    </tr>\n",
       "    <tr>\n",
       "      <th>7</th>\n",
       "      <td>4b797b48f964a520c6fb2ee3</td>\n",
       "      <td>43.653610</td>\n",
       "      <td>-79.402199</td>\n",
       "      <td>2</td>\n",
       "      <td>Bellevue Square Park</td>\n",
       "    </tr>\n",
       "    <tr>\n",
       "      <th>9</th>\n",
       "      <td>4ad4c05ef964a520bdf620e3</td>\n",
       "      <td>43.647072</td>\n",
       "      <td>-79.413756</td>\n",
       "      <td>2</td>\n",
       "      <td>Trinity Bellwoods Park</td>\n",
       "    </tr>\n",
       "    <tr>\n",
       "      <th>11</th>\n",
       "      <td>4bb3c91a2397b7134d9f38b3</td>\n",
       "      <td>43.644222</td>\n",
       "      <td>-79.394230</td>\n",
       "      <td>2</td>\n",
       "      <td>Clarence Square Park</td>\n",
       "    </tr>\n",
       "    <tr>\n",
       "      <th>16</th>\n",
       "      <td>4b618500f964a52090162ae3</td>\n",
       "      <td>43.637949</td>\n",
       "      <td>-79.387820</td>\n",
       "      <td>2</td>\n",
       "      <td>HTO Park</td>\n",
       "    </tr>\n",
       "    <tr>\n",
       "      <th>22</th>\n",
       "      <td>4bdde5056198c9b61a1c12ff</td>\n",
       "      <td>43.638762</td>\n",
       "      <td>-79.397067</td>\n",
       "      <td>2</td>\n",
       "      <td>Canoe Landing Park</td>\n",
       "    </tr>\n",
       "    <tr>\n",
       "      <th>25</th>\n",
       "      <td>4b9c2ef4f964a520785236e3</td>\n",
       "      <td>43.642395</td>\n",
       "      <td>-79.409330</td>\n",
       "      <td>2</td>\n",
       "      <td>Stanley Park</td>\n",
       "    </tr>\n",
       "    <tr>\n",
       "      <th>27</th>\n",
       "      <td>4b9333f1f964a520fa3a34e3</td>\n",
       "      <td>43.634553</td>\n",
       "      <td>-79.405403</td>\n",
       "      <td>2</td>\n",
       "      <td>Coronation Park</td>\n",
       "    </tr>\n",
       "    <tr>\n",
       "      <th>37</th>\n",
       "      <td>4e0ce37c8877c535e47259be</td>\n",
       "      <td>43.639748</td>\n",
       "      <td>-79.395978</td>\n",
       "      <td>2</td>\n",
       "      <td>Dog Park - Canoe Landing Park</td>\n",
       "    </tr>\n",
       "    <tr>\n",
       "      <th>43</th>\n",
       "      <td>4c34e9f7a0ced13a96fb186e</td>\n",
       "      <td>43.641668</td>\n",
       "      <td>-79.409269</td>\n",
       "      <td>2</td>\n",
       "      <td>Stanley Park (Dog Park)</td>\n",
       "    </tr>\n",
       "  </tbody>\n",
       "</table>\n",
       "</div>"
      ],
      "text/plain": [
       "                          id  location.lat  location.lng  Cluster Labels  \\\n",
       "3   4bfc5019da7120a132df49fd     43.647388    -79.398752               2   \n",
       "7   4b797b48f964a520c6fb2ee3     43.653610    -79.402199               2   \n",
       "9   4ad4c05ef964a520bdf620e3     43.647072    -79.413756               2   \n",
       "11  4bb3c91a2397b7134d9f38b3     43.644222    -79.394230               2   \n",
       "16  4b618500f964a52090162ae3     43.637949    -79.387820               2   \n",
       "22  4bdde5056198c9b61a1c12ff     43.638762    -79.397067               2   \n",
       "25  4b9c2ef4f964a520785236e3     43.642395    -79.409330               2   \n",
       "27  4b9333f1f964a520fa3a34e3     43.634553    -79.405403               2   \n",
       "37  4e0ce37c8877c535e47259be     43.639748    -79.395978               2   \n",
       "43  4c34e9f7a0ced13a96fb186e     43.641668    -79.409269               2   \n",
       "\n",
       "                                 name  \n",
       "3   St. Andrews Playground / Dog Park  \n",
       "7                Bellevue Square Park  \n",
       "9              Trinity Bellwoods Park  \n",
       "11               Clarence Square Park  \n",
       "16                           HTO Park  \n",
       "22                 Canoe Landing Park  \n",
       "25                       Stanley Park  \n",
       "27                    Coronation Park  \n",
       "37      Dog Park - Canoe Landing Park  \n",
       "43            Stanley Park (Dog Park)  "
      ]
     },
     "execution_count": 18,
     "metadata": {},
     "output_type": "execute_result"
    }
   ],
   "source": [
    "df_park.loc[df_park['Cluster Labels']==2]"
   ]
  },
  {
   "cell_type": "code",
   "execution_count": 57,
   "metadata": {},
   "outputs": [
    {
     "name": "stdout",
     "output_type": "stream",
     "text": [
      "Number of parks in cluster3: 10\n"
     ]
    }
   ],
   "source": [
    "rows = df_park.loc[df_park['Cluster Labels']==2].shape[0]\n",
    "print('Number of parks in cluster3: ' + str(rows))"
   ]
  },
  {
   "cell_type": "markdown",
   "metadata": {},
   "source": [
    "#### Cluster 4"
   ]
  },
  {
   "cell_type": "code",
   "execution_count": 53,
   "metadata": {},
   "outputs": [
    {
     "data": {
      "text/html": [
       "<div>\n",
       "<style scoped>\n",
       "    .dataframe tbody tr th:only-of-type {\n",
       "        vertical-align: middle;\n",
       "    }\n",
       "\n",
       "    .dataframe tbody tr th {\n",
       "        vertical-align: top;\n",
       "    }\n",
       "\n",
       "    .dataframe thead th {\n",
       "        text-align: right;\n",
       "    }\n",
       "</style>\n",
       "<table border=\"1\" class=\"dataframe\">\n",
       "  <thead>\n",
       "    <tr style=\"text-align: right;\">\n",
       "      <th></th>\n",
       "      <th>id</th>\n",
       "      <th>location.lat</th>\n",
       "      <th>location.lng</th>\n",
       "      <th>Cluster Labels</th>\n",
       "      <th>name</th>\n",
       "    </tr>\n",
       "  </thead>\n",
       "  <tbody>\n",
       "    <tr>\n",
       "      <th>28</th>\n",
       "      <td>4adb5deef964a5207d2621e3</td>\n",
       "      <td>43.63418</td>\n",
       "      <td>-79.323671</td>\n",
       "      <td>3</td>\n",
       "      <td>Tommy Thompson Park</td>\n",
       "    </tr>\n",
       "  </tbody>\n",
       "</table>\n",
       "</div>"
      ],
      "text/plain": [
       "                          id  location.lat  location.lng  Cluster Labels  \\\n",
       "28  4adb5deef964a5207d2621e3      43.63418    -79.323671               3   \n",
       "\n",
       "                   name  \n",
       "28  Tommy Thompson Park  "
      ]
     },
     "execution_count": 53,
     "metadata": {},
     "output_type": "execute_result"
    }
   ],
   "source": [
    "df_park.loc[df_park['Cluster Labels']==3]"
   ]
  },
  {
   "cell_type": "code",
   "execution_count": 56,
   "metadata": {},
   "outputs": [
    {
     "name": "stdout",
     "output_type": "stream",
     "text": [
      "Number of parks in cluster4: 1\n"
     ]
    }
   ],
   "source": [
    "rows = df_park.loc[df_park['Cluster Labels']==3].shape[0]\n",
    "print('Number of parks in cluster4: ' + str(rows))"
   ]
  },
  {
   "cell_type": "markdown",
   "metadata": {},
   "source": [
    "#### Cluster 5"
   ]
  },
  {
   "cell_type": "code",
   "execution_count": 20,
   "metadata": {},
   "outputs": [
    {
     "data": {
      "text/html": [
       "<div>\n",
       "<style scoped>\n",
       "    .dataframe tbody tr th:only-of-type {\n",
       "        vertical-align: middle;\n",
       "    }\n",
       "\n",
       "    .dataframe tbody tr th {\n",
       "        vertical-align: top;\n",
       "    }\n",
       "\n",
       "    .dataframe thead th {\n",
       "        text-align: right;\n",
       "    }\n",
       "</style>\n",
       "<table border=\"1\" class=\"dataframe\">\n",
       "  <thead>\n",
       "    <tr style=\"text-align: right;\">\n",
       "      <th></th>\n",
       "      <th>id</th>\n",
       "      <th>location.lat</th>\n",
       "      <th>location.lng</th>\n",
       "      <th>Cluster Labels</th>\n",
       "      <th>name</th>\n",
       "    </tr>\n",
       "  </thead>\n",
       "  <tbody>\n",
       "    <tr>\n",
       "      <th>20</th>\n",
       "      <td>4ad4c05ef964a5209ff620e3</td>\n",
       "      <td>43.646479</td>\n",
       "      <td>-79.463425</td>\n",
       "      <td>4</td>\n",
       "      <td>High Park</td>\n",
       "    </tr>\n",
       "    <tr>\n",
       "      <th>48</th>\n",
       "      <td>4adb7f2cf964a520342821e3</td>\n",
       "      <td>43.656052</td>\n",
       "      <td>-79.431915</td>\n",
       "      <td>4</td>\n",
       "      <td>Dufferin Grove Park</td>\n",
       "    </tr>\n",
       "  </tbody>\n",
       "</table>\n",
       "</div>"
      ],
      "text/plain": [
       "                          id  location.lat  location.lng  Cluster Labels  \\\n",
       "20  4ad4c05ef964a5209ff620e3     43.646479    -79.463425               4   \n",
       "48  4adb7f2cf964a520342821e3     43.656052    -79.431915               4   \n",
       "\n",
       "                   name  \n",
       "20            High Park  \n",
       "48  Dufferin Grove Park  "
      ]
     },
     "execution_count": 20,
     "metadata": {},
     "output_type": "execute_result"
    }
   ],
   "source": [
    "df_park.loc[df_park['Cluster Labels']==4]"
   ]
  },
  {
   "cell_type": "code",
   "execution_count": 55,
   "metadata": {},
   "outputs": [
    {
     "name": "stdout",
     "output_type": "stream",
     "text": [
      "Number of parks in cluster5: 2\n"
     ]
    }
   ],
   "source": [
    "rows = df_park.loc[df_park['Cluster Labels']==4].shape[0]\n",
    "print('Number of parks in cluster5: ' + str(rows))"
   ]
  },
  {
   "cell_type": "markdown",
   "metadata": {},
   "source": [
    "## Conclustion: The ideal location belongs to Cluster 1"
   ]
  },
  {
   "cell_type": "markdown",
   "metadata": {},
   "source": [
    "## Map the center point in Cluster 1"
   ]
  },
  {
   "cell_type": "code",
   "execution_count": 59,
   "metadata": {},
   "outputs": [
    {
     "data": {
      "text/plain": [
       "location.lat      43.634180\n",
       "location.lng     -79.323671\n",
       "Cluster Labels     3.000000\n",
       "dtype: float64"
      ]
     },
     "execution_count": 59,
     "metadata": {},
     "output_type": "execute_result"
    }
   ],
   "source": [
    "df_place = df_park.loc[df_park['Cluster Labels']==3]\n",
    "df_place.mean()"
   ]
  },
  {
   "cell_type": "code",
   "execution_count": 60,
   "metadata": {},
   "outputs": [
    {
     "data": {
      "text/html": [
       "<div style=\"width:100%;\"><div style=\"position:relative;width:100%;height:0;padding-bottom:60%;\"><span style=\"color:#565656\">Make this Notebook Trusted to load map: File -> Trust Notebook</span><iframe src=\"about:blank\" style=\"position:absolute;width:100%;height:100%;left:0;top:0;border:none !important;\" data-html=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 onload=\"this.contentDocument.open();this.contentDocument.write(atob(this.getAttribute('data-html')));this.contentDocument.close();\" allowfullscreen webkitallowfullscreen mozallowfullscreen></iframe></div></div>"
      ],
      "text/plain": [
       "<folium.folium.Map at 0x7f828f7f2fd0>"
      ]
     },
     "execution_count": 60,
     "metadata": {},
     "output_type": "execute_result"
    }
   ],
   "source": [
    "sanfran_map = folium.Map(location=[43.662143, -79.387339], zoom_start=15)\n",
    "\n",
    "incidents = folium.map.FeatureGroup()\n",
    "\n",
    "\n",
    "incidents.add_child(\n",
    "        folium.features.CircleMarker(\n",
    "            [43.662143, -79.387339],\n",
    "            radius=20, # define how big you want the circle markers to be\n",
    "            color='yellow',\n",
    "            fill=True,\n",
    "            fill_color='blue',\n",
    "            fill_opacity=0.6\n",
    "        )\n",
    "    )\n",
    "\n",
    "folium.Marker([43.662143, -79.387339], popup=label).add_to(sanfran_map)    \n",
    "    \n",
    "# add incidents to map\n",
    "sanfran_map.add_child(incidents)"
   ]
  }
 ],
 "metadata": {
  "kernelspec": {
   "display_name": "Python",
   "language": "python",
   "name": "conda-env-python-py"
  },
  "language_info": {
   "codemirror_mode": {
    "name": "ipython",
    "version": 3
   },
   "file_extension": ".py",
   "mimetype": "text/x-python",
   "name": "python",
   "nbconvert_exporter": "python",
   "pygments_lexer": "ipython3",
   "version": "3.6.11"
  }
 },
 "nbformat": 4,
 "nbformat_minor": 4
}
