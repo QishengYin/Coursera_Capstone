{
 "cells": [
  {
   "cell_type": "markdown",
   "metadata": {},
   "source": [
    "## download all the dependencies that we will need"
   ]
  },
  {
   "cell_type": "code",
   "execution_count": 1,
   "metadata": {},
   "outputs": [
    {
     "name": "stdout",
     "output_type": "stream",
     "text": [
      "Collecting package metadata (current_repodata.json): done\n",
      "Solving environment: done\n",
      "\n",
      "# All requested packages already installed.\n",
      "\n",
      "Collecting package metadata (current_repodata.json): done\n",
      "Solving environment: done\n",
      "\n",
      "# All requested packages already installed.\n",
      "\n",
      "Folium installed\n",
      "Libraries imported.\n"
     ]
    }
   ],
   "source": [
    "import requests # library to handle requests\n",
    "import pandas as pd # library for data analsysis\n",
    "import numpy as np # library to handle data in a vectorized manner\n",
    "import random # library for random number generation\n",
    "\n",
    "!conda install -c conda-forge geopy --yes \n",
    "from geopy.geocoders import Nominatim # module to convert an address into latitude and longitude values\n",
    "\n",
    "# libraries for displaying images\n",
    "from IPython.display import Image \n",
    "from IPython.core.display import HTML \n",
    "    \n",
    "# tranforming json file into a pandas dataframe library\n",
    "from pandas.io.json import json_normalize\n",
    "\n",
    "!conda install -c conda-forge folium=0.5.0 --yes\n",
    "import folium # plotting library\n",
    "\n",
    "print('Folium installed')\n",
    "print('Libraries imported.')"
   ]
  },
  {
   "cell_type": "markdown",
   "metadata": {},
   "source": [
    "## load Foursqure credential"
   ]
  },
  {
   "cell_type": "code",
   "execution_count": 2,
   "metadata": {},
   "outputs": [
    {
     "name": "stdout",
     "output_type": "stream",
     "text": [
      "Your credentails:\n",
      "CLIENT_ID: LBN0SGLPFK3PPF2BRSGPUUU3TZX1YHFDBCPRTWBYIER14LT0\n",
      "CLIENT_SECRET:5FK1MXUWKERD2QHE2KJI0CRAM22CLUMA4BNPQRS5YIXOPGZJ\n"
     ]
    }
   ],
   "source": [
    "CLIENT_ID = 'LBN0SGLPFK3PPF2BRSGPUUU3TZX1YHFDBCPRTWBYIER14LT0' # your Foursquare ID\n",
    "CLIENT_SECRET = '5FK1MXUWKERD2QHE2KJI0CRAM22CLUMA4BNPQRS5YIXOPGZJ' # your Foursquare Secret\n",
    "VERSION = '20180604'\n",
    "LIMIT = 10000\n",
    "print('Your credentails:')\n",
    "print('CLIENT_ID: ' + CLIENT_ID)\n",
    "print('CLIENT_SECRET:' + CLIENT_SECRET)"
   ]
  },
  {
   "cell_type": "markdown",
   "metadata": {},
   "source": [
    "## load the location data of Toronto"
   ]
  },
  {
   "cell_type": "code",
   "execution_count": 3,
   "metadata": {},
   "outputs": [
    {
     "name": "stdout",
     "output_type": "stream",
     "text": [
      "43.6536032 -79.38400547469666\n"
     ]
    }
   ],
   "source": [
    "address = '100 Queen St W, Toronto, ON M5H 2N2'\n",
    "\n",
    "geolocator = Nominatim(user_agent=\"foursquare_agent\")\n",
    "location = geolocator.geocode(address)\n",
    "latitude = location.latitude\n",
    "longitude = location.longitude\n",
    "print(latitude, longitude)"
   ]
  },
  {
   "cell_type": "markdown",
   "metadata": {},
   "source": [
    "## load venue data from Foursquare"
   ]
  },
  {
   "cell_type": "code",
   "execution_count": 4,
   "metadata": {},
   "outputs": [
    {
     "name": "stdout",
     "output_type": "stream",
     "text": [
      "Park .... OK!\n"
     ]
    }
   ],
   "source": [
    "search_query = 'Park'\n",
    "radius = 20000\n",
    "print(search_query + ' .... OK!')"
   ]
  },
  {
   "cell_type": "code",
   "execution_count": 5,
   "metadata": {},
   "outputs": [
    {
     "data": {
      "text/plain": [
       "'https://api.foursquare.com/v2/venues/search?client_id=LBN0SGLPFK3PPF2BRSGPUUU3TZX1YHFDBCPRTWBYIER14LT0&client_secret=5FK1MXUWKERD2QHE2KJI0CRAM22CLUMA4BNPQRS5YIXOPGZJ&ll=43.6536032,-79.38400547469666&v=20180604&query=Park&radius=20000&limit=10000'"
      ]
     },
     "execution_count": 5,
     "metadata": {},
     "output_type": "execute_result"
    }
   ],
   "source": [
    "url = 'https://api.foursquare.com/v2/venues/search?client_id={}&client_secret={}&ll={},{}&v={}&query={}&radius={}&limit={}'.format(CLIENT_ID, CLIENT_SECRET, latitude, longitude, VERSION, search_query, radius, LIMIT)\n",
    "url"
   ]
  },
  {
   "cell_type": "code",
   "execution_count": 6,
   "metadata": {},
   "outputs": [],
   "source": [
    "results = requests.get(url).json()\n",
    "Park = results['response']['venues']"
   ]
  },
  {
   "cell_type": "code",
   "execution_count": 7,
   "metadata": {},
   "outputs": [],
   "source": [
    "## transform data into pandas dataframe"
   ]
  },
  {
   "cell_type": "code",
   "execution_count": 8,
   "metadata": {},
   "outputs": [
    {
     "data": {
      "text/html": [
       "<div>\n",
       "<style scoped>\n",
       "    .dataframe tbody tr th:only-of-type {\n",
       "        vertical-align: middle;\n",
       "    }\n",
       "\n",
       "    .dataframe tbody tr th {\n",
       "        vertical-align: top;\n",
       "    }\n",
       "\n",
       "    .dataframe thead th {\n",
       "        text-align: right;\n",
       "    }\n",
       "</style>\n",
       "<table border=\"1\" class=\"dataframe\">\n",
       "  <thead>\n",
       "    <tr style=\"text-align: right;\">\n",
       "      <th></th>\n",
       "      <th>id</th>\n",
       "      <th>name</th>\n",
       "      <th>categories</th>\n",
       "      <th>referralId</th>\n",
       "      <th>hasPerk</th>\n",
       "      <th>location.address</th>\n",
       "      <th>location.crossStreet</th>\n",
       "      <th>location.lat</th>\n",
       "      <th>location.lng</th>\n",
       "      <th>location.labeledLatLngs</th>\n",
       "      <th>location.distance</th>\n",
       "      <th>location.postalCode</th>\n",
       "      <th>location.cc</th>\n",
       "      <th>location.city</th>\n",
       "      <th>location.state</th>\n",
       "      <th>location.country</th>\n",
       "      <th>location.formattedAddress</th>\n",
       "      <th>venuePage.id</th>\n",
       "    </tr>\n",
       "  </thead>\n",
       "  <tbody>\n",
       "    <tr>\n",
       "      <th>0</th>\n",
       "      <td>4b170e47f964a5208cc123e3</td>\n",
       "      <td>Queen's Park Subway Station</td>\n",
       "      <td>[{'id': '4bf58dd8d48988d1fd931735', 'name': 'M...</td>\n",
       "      <td>v-1596180436</td>\n",
       "      <td>False</td>\n",
       "      <td>691 University Ave</td>\n",
       "      <td>at College St</td>\n",
       "      <td>43.660006</td>\n",
       "      <td>-79.390272</td>\n",
       "      <td>[{'label': 'display', 'lat': 43.66000635700919...</td>\n",
       "      <td>873</td>\n",
       "      <td>M5G 2P1</td>\n",
       "      <td>CA</td>\n",
       "      <td>Toronto</td>\n",
       "      <td>ON</td>\n",
       "      <td>Canada</td>\n",
       "      <td>[691 University Ave (at College St), Toronto O...</td>\n",
       "      <td>NaN</td>\n",
       "    </tr>\n",
       "    <tr>\n",
       "      <th>1</th>\n",
       "      <td>4b9d206bf964a520e69136e3</td>\n",
       "      <td>Queen's Park</td>\n",
       "      <td>[{'id': '4bf58dd8d48988d163941735', 'name': 'P...</td>\n",
       "      <td>v-1596180436</td>\n",
       "      <td>False</td>\n",
       "      <td>University Ave.</td>\n",
       "      <td>at Wellesley Ave.</td>\n",
       "      <td>43.663946</td>\n",
       "      <td>-79.392180</td>\n",
       "      <td>[{'label': 'display', 'lat': 43.66394609897775...</td>\n",
       "      <td>1326</td>\n",
       "      <td>M5R 2E8</td>\n",
       "      <td>CA</td>\n",
       "      <td>Toronto</td>\n",
       "      <td>ON</td>\n",
       "      <td>Canada</td>\n",
       "      <td>[University Ave. (at Wellesley Ave.), Toronto ...</td>\n",
       "      <td>NaN</td>\n",
       "    </tr>\n",
       "    <tr>\n",
       "      <th>2</th>\n",
       "      <td>4b54deadf964a520a3d027e3</td>\n",
       "      <td>Grange Park</td>\n",
       "      <td>[{'id': '4bf58dd8d48988d163941735', 'name': 'P...</td>\n",
       "      <td>v-1596180436</td>\n",
       "      <td>False</td>\n",
       "      <td>NaN</td>\n",
       "      <td>NaN</td>\n",
       "      <td>43.652488</td>\n",
       "      <td>-79.392053</td>\n",
       "      <td>[{'label': 'display', 'lat': 43.65248755299856...</td>\n",
       "      <td>659</td>\n",
       "      <td>NaN</td>\n",
       "      <td>CA</td>\n",
       "      <td>Toronto</td>\n",
       "      <td>ON</td>\n",
       "      <td>Canada</td>\n",
       "      <td>[btwn College, University, Queen &amp; Spadina, To...</td>\n",
       "      <td>NaN</td>\n",
       "    </tr>\n",
       "    <tr>\n",
       "      <th>3</th>\n",
       "      <td>4bfc5019da7120a132df49fd</td>\n",
       "      <td>St. Andrews Playground / Dog Park</td>\n",
       "      <td>[{'id': '4bf58dd8d48988d163941735', 'name': 'P...</td>\n",
       "      <td>v-1596180436</td>\n",
       "      <td>False</td>\n",
       "      <td>450 Adelaide Street West</td>\n",
       "      <td>Brant St &amp; Adelaide St W</td>\n",
       "      <td>43.647388</td>\n",
       "      <td>-79.398752</td>\n",
       "      <td>[{'label': 'display', 'lat': 43.64738759338116...</td>\n",
       "      <td>1374</td>\n",
       "      <td>NaN</td>\n",
       "      <td>CA</td>\n",
       "      <td>Toronto</td>\n",
       "      <td>ON</td>\n",
       "      <td>Canada</td>\n",
       "      <td>[450 Adelaide Street West (Brant St &amp; Adelaide...</td>\n",
       "      <td>NaN</td>\n",
       "    </tr>\n",
       "    <tr>\n",
       "      <th>4</th>\n",
       "      <td>4b9177e4f964a520d2be33e3</td>\n",
       "      <td>TTC Streetcar #403 - Victoria park</td>\n",
       "      <td>[{'id': '4bf58dd8d48988d1fc931735', 'name': 'L...</td>\n",
       "      <td>v-1596180436</td>\n",
       "      <td>False</td>\n",
       "      <td>NaN</td>\n",
       "      <td>NaN</td>\n",
       "      <td>43.650735</td>\n",
       "      <td>-79.386921</td>\n",
       "      <td>[{'label': 'display', 'lat': 43.650735, 'lng':...</td>\n",
       "      <td>396</td>\n",
       "      <td>NaN</td>\n",
       "      <td>CA</td>\n",
       "      <td>Toronto</td>\n",
       "      <td>ON</td>\n",
       "      <td>Canada</td>\n",
       "      <td>[Toronto ON, Canada]</td>\n",
       "      <td>NaN</td>\n",
       "    </tr>\n",
       "  </tbody>\n",
       "</table>\n",
       "</div>"
      ],
      "text/plain": [
       "                         id                                name  \\\n",
       "0  4b170e47f964a5208cc123e3         Queen's Park Subway Station   \n",
       "1  4b9d206bf964a520e69136e3                        Queen's Park   \n",
       "2  4b54deadf964a520a3d027e3                         Grange Park   \n",
       "3  4bfc5019da7120a132df49fd   St. Andrews Playground / Dog Park   \n",
       "4  4b9177e4f964a520d2be33e3  TTC Streetcar #403 - Victoria park   \n",
       "\n",
       "                                          categories    referralId  hasPerk  \\\n",
       "0  [{'id': '4bf58dd8d48988d1fd931735', 'name': 'M...  v-1596180436    False   \n",
       "1  [{'id': '4bf58dd8d48988d163941735', 'name': 'P...  v-1596180436    False   \n",
       "2  [{'id': '4bf58dd8d48988d163941735', 'name': 'P...  v-1596180436    False   \n",
       "3  [{'id': '4bf58dd8d48988d163941735', 'name': 'P...  v-1596180436    False   \n",
       "4  [{'id': '4bf58dd8d48988d1fc931735', 'name': 'L...  v-1596180436    False   \n",
       "\n",
       "           location.address      location.crossStreet  location.lat  \\\n",
       "0        691 University Ave             at College St     43.660006   \n",
       "1           University Ave.         at Wellesley Ave.     43.663946   \n",
       "2                       NaN                       NaN     43.652488   \n",
       "3  450 Adelaide Street West  Brant St & Adelaide St W     43.647388   \n",
       "4                       NaN                       NaN     43.650735   \n",
       "\n",
       "   location.lng                            location.labeledLatLngs  \\\n",
       "0    -79.390272  [{'label': 'display', 'lat': 43.66000635700919...   \n",
       "1    -79.392180  [{'label': 'display', 'lat': 43.66394609897775...   \n",
       "2    -79.392053  [{'label': 'display', 'lat': 43.65248755299856...   \n",
       "3    -79.398752  [{'label': 'display', 'lat': 43.64738759338116...   \n",
       "4    -79.386921  [{'label': 'display', 'lat': 43.650735, 'lng':...   \n",
       "\n",
       "   location.distance location.postalCode location.cc location.city  \\\n",
       "0                873             M5G 2P1          CA       Toronto   \n",
       "1               1326             M5R 2E8          CA       Toronto   \n",
       "2                659                 NaN          CA       Toronto   \n",
       "3               1374                 NaN          CA       Toronto   \n",
       "4                396                 NaN          CA       Toronto   \n",
       "\n",
       "  location.state location.country  \\\n",
       "0             ON           Canada   \n",
       "1             ON           Canada   \n",
       "2             ON           Canada   \n",
       "3             ON           Canada   \n",
       "4             ON           Canada   \n",
       "\n",
       "                           location.formattedAddress venuePage.id  \n",
       "0  [691 University Ave (at College St), Toronto O...          NaN  \n",
       "1  [University Ave. (at Wellesley Ave.), Toronto ...          NaN  \n",
       "2  [btwn College, University, Queen & Spadina, To...          NaN  \n",
       "3  [450 Adelaide Street West (Brant St & Adelaide...          NaN  \n",
       "4                               [Toronto ON, Canada]          NaN  "
      ]
     },
     "execution_count": 8,
     "metadata": {},
     "output_type": "execute_result"
    }
   ],
   "source": [
    "dataframe = pd.json_normalize(Park)\n",
    "dataframe.head()"
   ]
  },
  {
   "cell_type": "code",
   "execution_count": null,
   "metadata": {},
   "outputs": [],
   "source": []
  }
 ],
 "metadata": {
  "kernelspec": {
   "display_name": "Python",
   "language": "python",
   "name": "conda-env-python-py"
  },
  "language_info": {
   "codemirror_mode": {
    "name": "ipython",
    "version": 3
   },
   "file_extension": ".py",
   "mimetype": "text/x-python",
   "name": "python",
   "nbconvert_exporter": "python",
   "pygments_lexer": "ipython3",
   "version": "3.6.11"
  }
 },
 "nbformat": 4,
 "nbformat_minor": 4
}
